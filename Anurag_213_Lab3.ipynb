{
 "cells": [
  {
   "cell_type": "code",
   "execution_count": 3,
   "metadata": {},
   "outputs": [
    {
     "name": "stdout",
     "output_type": "stream",
     "text": [
      "{'Name': 'Anurag', 'Domain': 'PersonalHealth', 'Registration Number': 2347213}\n"
     ]
    }
   ],
   "source": [
    "#QUESTION 1\n",
    "\n",
    "def stringsplit(x):\n",
    "    x = x.replace('_', ' ') \n",
    "    name, domain, regNo = x.split() \n",
    "    myDict = {\"Name\": name, \"Domain\": domain, \"Registration Number\": int(regNo)}\n",
    "    return myDict\n",
    "\n",
    "encode_string = input(\"Enter 'Name', 'Domain', 'Registration No.' with any number of underscores in between: \")\n",
    "newDict = stringsplit(encode_string)\n",
    "print(newDict)"
   ]
  },
  {
   "cell_type": "code",
   "execution_count": 2,
   "metadata": {},
   "outputs": [
    {
     "name": "stdout",
     "output_type": "stream",
     "text": [
      "Anurag's Wellness Score: 2\n",
      "Raghav's Nutrition Log: ['Salad for lunch']\n"
     ]
    }
   ],
   "source": [
    "#QUESTION 2\n",
    "\n",
    "'''Here UserData is the Parent Class that has information of the users.\n",
    "The NutritionLog is a child Class that inherits attributes from the Parent Class. It has it's own attribute to store nutritional data.\n",
    "Similarly, The Exerciselog is a child Class that inherits attributes from the Parent Class. It has it's own attribute to store exercise data.\n",
    "The Wellness Dashboard Class uses multiple inheritence to inherit data from both Nutritionlog and Exerciselog.\n",
    "''' \n",
    "\n",
    "\n",
    "\n",
    "class UserData:\n",
    "    def __init__(self, name, age, gender):\n",
    "        self.name = name\n",
    "        self.age = age\n",
    "        self.gender = gender\n",
    "\n",
    "class NutritionalLog(UserData):\n",
    "    def __init__(self, name, age, gender):\n",
    "        super().__init__(name, age, gender)\n",
    "        self.nutrition_data = []\n",
    "    def add_nutrition_entry(self, entry):\n",
    "        self.nutrition_data.append(entry)\n",
    "\n",
    "class ExerciseLog(UserData):\n",
    "    def __init__(self, name, age, gender):\n",
    "        super().__init__(name, age, gender)\n",
    "        self.exercise_data = []\n",
    "    def add_exercise_entry(self, entry):\n",
    "        self.exercise_data.append(entry)\n",
    "\n",
    "class ExercisePlan(UserData):\n",
    "    def __init__(self, name, age, gender, goal):\n",
    "        super().__init__(name, age, gender)\n",
    "        self.goal = goal\n",
    "\n",
    "class WellnessDashboard(NutritionalLog, ExerciseLog):\n",
    "    def __init__(self, name, age, gender):\n",
    "        super().__init__(name, age, gender)\n",
    "        self.wellness_score = 0\n",
    "\n",
    "    def calculate_wellness_score(self):        \n",
    "        self.wellness_score = len(self.nutrition_data) + len(self.exercise_data)\n",
    "\n",
    "user1 = WellnessDashboard(\"Anurag\", 23, \"Male\")\n",
    "user2 = NutritionalLog(\"Raghav\", 30, \"Male\")\n",
    "\n",
    "user1.add_nutrition_entry(\"Healthy breakfast\")\n",
    "user1.add_exercise_entry(\"30-min jog\")\n",
    "\n",
    "user2.add_nutrition_entry(\"Salad for lunch\")\n",
    "\n",
    "user1.calculate_wellness_score()\n",
    "\n",
    "print(f\"{user1.name}'s Wellness Score: {user1.wellness_score}\")\n",
    "print(f\"{user2.name}'s Nutrition Log: {user2.nutrition_data}\")\n"
   ]
  }
 ],
 "metadata": {
  "kernelspec": {
   "display_name": "Python 3",
   "language": "python",
   "name": "python3"
  },
  "language_info": {
   "codemirror_mode": {
    "name": "ipython",
    "version": 3
   },
   "file_extension": ".py",
   "mimetype": "text/x-python",
   "name": "python",
   "nbconvert_exporter": "python",
   "pygments_lexer": "ipython3",
   "version": "3.11.4"
  },
  "orig_nbformat": 4
 },
 "nbformat": 4,
 "nbformat_minor": 2
}
